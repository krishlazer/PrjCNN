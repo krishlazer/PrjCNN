{
 "cells": [
  {
   "cell_type": "code",
   "execution_count": 6,
   "metadata": {},
   "outputs": [],
   "source": [
    "import tensorflow as tf\n",
    "import tensorflow.keras\n",
    "from tensorflow.keras.models import Sequential\n",
    "from tensorflow.keras.layers import Conv2D, MaxPooling2D, Dense, Activation, Flatten"
   ]
  },
  {
   "cell_type": "code",
   "execution_count": 10,
   "metadata": {},
   "outputs": [],
   "source": [
    "# model = tensorflow.keras.Sequential([\n",
    "#     tensorflow.keras.layers.Flatten(input_shape=[28, 28, 1]),\n",
    "#     tensorflow.keras.layers.Dense(200, activation = 'relu'),\n",
    "#     tensorflow.keras.layers.Dense(100, activation = 'relu'),\n",
    "#     tensorflow.keras.layers.Dense(60, activation = 'relu'),\n",
    "#     tensorflow.keras.layers.Dense(10, activation = 'softmax')\n",
    "# ])"
   ]
  },
  {
   "cell_type": "code",
   "execution_count": 11,
   "metadata": {},
   "outputs": [],
   "source": [
    "model.compile(optimizer='adam', loss = 'categorical_crossentropy', metrics = ['accuracy'])"
   ]
  },
  {
   "cell_type": "code",
   "execution_count": 20,
   "metadata": {},
   "outputs": [],
   "source": [
    "model = tensorflow.keras.Sequential([\n",
    "    tensorflow.keras.layers.Reshape(input_shape=(28*28,), target_shape=(28, 28, 1)),\n",
    "    tensorflow.keras.layers.Conv2D(kernel_size=3, filters=12, activation='relu'),\n",
    "    tensorflow.keras.layers.Conv2D(kernel_size=6, filters=24, strides=2, activation='relu'),\n",
    "    tensorflow.keras.layers.Conv2D(kernel_size=9, filters=36, strides=2, activation='relu'),\n",
    "    tensorflow.keras.layers.Flatten(),\n",
    "    tensorflow.keras.layers.Dense(10, activation='softmax')\n",
    "])"
   ]
  },
  {
   "cell_type": "code",
   "execution_count": null,
   "metadata": {},
   "outputs": [],
   "source": []
  }
 ],
 "metadata": {
  "kernelspec": {
   "display_name": "Python 3",
   "language": "python",
   "name": "python3"
  },
  "language_info": {
   "codemirror_mode": {
    "name": "ipython",
    "version": 3
   },
   "file_extension": ".py",
   "mimetype": "text/x-python",
   "name": "python",
   "nbconvert_exporter": "python",
   "pygments_lexer": "ipython3",
   "version": "3.8.1"
  }
 },
 "nbformat": 4,
 "nbformat_minor": 4
}
