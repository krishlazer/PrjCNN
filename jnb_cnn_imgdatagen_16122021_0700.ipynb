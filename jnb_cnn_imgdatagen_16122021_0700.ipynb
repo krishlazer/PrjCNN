{
 "cells": [
  {
   "cell_type": "code",
   "execution_count": 31,
   "metadata": {},
   "outputs": [],
   "source": [
    "import tensorflow as tf"
   ]
  },
  {
   "cell_type": "code",
   "execution_count": 49,
   "metadata": {},
   "outputs": [],
   "source": [
    "import tensorflow.keras\n",
    "from tensorflow.keras.models import Sequential\n",
    "from tensorflow.keras.layers import Conv2D, MaxPooling2D, Dense, Activation, Dropout, Flatten\n",
    "from tensorflow.keras.preprocessing.image import ImageDataGenerator, load_img\n",
    "import matplotlib.pyplot as plt\n",
    "%matplotlib inline\n",
    "import numpy as np\n",
    "import os"
   ]
  },
  {
   "cell_type": "code",
   "execution_count": 22,
   "metadata": {},
   "outputs": [],
   "source": [
    "trainimg = 'E:/KrishM/PythonPrjs/PyDatasets/ctdgex/catsdogs/trainingset'"
   ]
  },
  {
   "cell_type": "code",
   "execution_count": 23,
   "metadata": {},
   "outputs": [],
   "source": [
    "valdimg = 'E:/KrishM/PythonPrjs/PyDatasets/ctdgex/catsdogs/validationset'"
   ]
  },
  {
   "cell_type": "code",
   "execution_count": 24,
   "metadata": {},
   "outputs": [],
   "source": [
    "testimg = 'E:/KrishM/PythonPrjs/PyDatasets/ctdgex/catsdogs/testingset'"
   ]
  },
  {
   "cell_type": "code",
   "execution_count": 25,
   "metadata": {},
   "outputs": [
    {
     "name": "stdout",
     "output_type": "stream",
     "text": [
      "Found 7349 files belonging to 2 classes.\n"
     ]
    },
    {
     "data": {
      "text/plain": [
       "<BatchDataset shapes: ((None, 200, 200, 3), (None,)), types: (tf.float32, tf.int32)>"
      ]
     },
     "execution_count": 25,
     "metadata": {},
     "output_type": "execute_result"
    }
   ],
   "source": [
    "tf.keras.preprocessing.image_dataset_from_directory(trainimg, labels='inferred', image_size=(200, 200))"
   ]
  },
  {
   "cell_type": "code",
   "execution_count": 26,
   "metadata": {},
   "outputs": [],
   "source": [
    "catimgs = os.path.join(trainimg, 'cats')"
   ]
  },
  {
   "cell_type": "code",
   "execution_count": 27,
   "metadata": {},
   "outputs": [],
   "source": [
    "catimgs = os.listdir(catimgs)"
   ]
  },
  {
   "cell_type": "code",
   "execution_count": 41,
   "metadata": {},
   "outputs": [],
   "source": [
    "md1 = tensorflow.keras.Sequential([\n",
    "    tf.keras.layers.Conv2D(32, kernel_size=(3, 3), strides=(1, 1), activation='relu', input_shape=(200, 200, 3)),\n",
    "    tf.keras.layers.MaxPooling2D(2, 2),\n",
    "    \n",
    "    tf.keras.layers.Conv2D(32, kernel_size=(3, 3), strides=(1, 1), activation='relu'),\n",
    "    tf.keras.layers.MaxPooling2D(2, 2),\n",
    "    \n",
    "    tf.keras.layers.Conv2D(64, kernel_size=(3, 3), strides=(1, 1), activation='relu'),\n",
    "    tf.keras.layers.MaxPooling2D(2, 2),\n",
    "    \n",
    "    tf.keras.layers.Flatten(),\n",
    "    tf.keras.layers.Dense(64, activation = 'relu'),\n",
    "    tf.keras.layers.Dropout(0.2),\n",
    "    \n",
    "    tf.keras.layers.Dense(1, activation='softmax')   \n",
    "])"
   ]
  },
  {
   "cell_type": "code",
   "execution_count": 42,
   "metadata": {},
   "outputs": [],
   "source": [
    "md1.compile(optimizer='adam', loss='binary_crossentropy', metrics = ['accuracy'])"
   ]
  },
  {
   "cell_type": "code",
   "execution_count": 52,
   "metadata": {},
   "outputs": [],
   "source": [
    "traindatagen = ImageDataGenerator(rescale=1.0/255)"
   ]
  },
  {
   "cell_type": "code",
   "execution_count": 53,
   "metadata": {},
   "outputs": [],
   "source": [
    "testdatagen = ImageDataGenerator(rescale=1.0/255)"
   ]
  },
  {
   "cell_type": "code",
   "execution_count": 55,
   "metadata": {},
   "outputs": [
    {
     "name": "stdout",
     "output_type": "stream",
     "text": [
      "Found 7349 images belonging to 2 classes.\n"
     ]
    }
   ],
   "source": [
    "traingenerator = traindatagen.flow_from_directory(trainimg, target_size=(200, 200), batch_size=20, class_mode='binary')"
   ]
  },
  {
   "cell_type": "code",
   "execution_count": 56,
   "metadata": {
    "scrolled": true
   },
   "outputs": [
    {
     "name": "stdout",
     "output_type": "stream",
     "text": [
      "{'cats': 0, 'dogs': 1}\n"
     ]
    }
   ],
   "source": [
    "print(trainingimggen.class_indices)"
   ]
  },
  {
   "cell_type": "code",
   "execution_count": 57,
   "metadata": {},
   "outputs": [],
   "source": [
    "imgs, labels = next(traingenerator)"
   ]
  },
  {
   "cell_type": "code",
   "execution_count": 71,
   "metadata": {},
   "outputs": [],
   "source": [
    "image_batch, label_batch = traingenerator.next()"
   ]
  },
  {
   "cell_type": "code",
   "execution_count": 73,
   "metadata": {},
   "outputs": [
    {
     "name": "stdout",
     "output_type": "stream",
     "text": [
      "Found 602 images belonging to 2 classes.\n"
     ]
    }
   ],
   "source": [
    "validationgenerator = testdatagen.flow_from_directory(valdimg, target_size=(200, 200), batch_size=20, class_mode='binary')"
   ]
  },
  {
   "cell_type": "code",
   "execution_count": 74,
   "metadata": {},
   "outputs": [
    {
     "name": "stderr",
     "output_type": "stream",
     "text": [
      "c:\\users\\dell\\appdata\\local\\programs\\python\\python38\\lib\\site-packages\\tensorflow\\python\\keras\\engine\\training.py:1844: UserWarning: `Model.fit_generator` is deprecated and will be removed in a future version. Please use `Model.fit`, which supports generators.\n",
      "  warnings.warn('`Model.fit_generator` is deprecated and '\n"
     ]
    },
    {
     "name": "stdout",
     "output_type": "stream",
     "text": [
      "Epoch 1/10\n",
      "100/100 [==============================] - 68s 652ms/step - loss: 0.7551 - accuracy: 0.5105 - val_loss: 0.6925 - val_accuracy: 0.5017\n",
      "Epoch 2/10\n",
      "100/100 [==============================] - 58s 576ms/step - loss: 0.6900 - accuracy: 0.5241 - val_loss: 0.7099 - val_accuracy: 0.4983\n",
      "Epoch 3/10\n",
      "100/100 [==============================] - 61s 612ms/step - loss: 0.6753 - accuracy: 0.5050 - val_loss: 0.6783 - val_accuracy: 0.4983\n",
      "Epoch 4/10\n",
      "100/100 [==============================] - 57s 564ms/step - loss: 0.6632 - accuracy: 0.5005 - val_loss: 0.6485 - val_accuracy: 0.4983\n",
      "Epoch 5/10\n",
      "100/100 [==============================] - 56s 557ms/step - loss: 0.6451 - accuracy: 0.4887 - val_loss: 0.6395 - val_accuracy: 0.5017\n",
      "Epoch 6/10\n",
      "100/100 [==============================] - 62s 615ms/step - loss: 0.6210 - accuracy: 0.5116 - val_loss: 0.6575 - val_accuracy: 0.5017\n",
      "Epoch 7/10\n",
      "100/100 [==============================] - 66s 657ms/step - loss: 0.6136 - accuracy: 0.5298 - val_loss: 0.5994 - val_accuracy: 0.5000\n",
      "Epoch 8/10\n",
      "100/100 [==============================] - 62s 619ms/step - loss: 0.5533 - accuracy: 0.4990 - val_loss: 0.5727 - val_accuracy: 0.4983\n",
      "Epoch 9/10\n",
      "100/100 [==============================] - 66s 655ms/step - loss: 0.5164 - accuracy: 0.5087 - val_loss: 0.5591 - val_accuracy: 0.5000\n",
      "Epoch 10/10\n",
      "100/100 [==============================] - 62s 621ms/step - loss: 0.4772 - accuracy: 0.5093 - val_loss: 0.5694 - val_accuracy: 0.5000\n"
     ]
    }
   ],
   "source": [
    "history = md1.fit_generator(traingenerator, steps_per_epoch=100, epochs=10, validation_data=validationgenerator, validation_steps=30)"
   ]
  },
  {
   "cell_type": "code",
   "execution_count": null,
   "metadata": {},
   "outputs": [],
   "source": []
  },
  {
   "cell_type": "code",
   "execution_count": null,
   "metadata": {},
   "outputs": [],
   "source": []
  },
  {
   "cell_type": "code",
   "execution_count": null,
   "metadata": {},
   "outputs": [],
   "source": []
  },
  {
   "cell_type": "code",
   "execution_count": null,
   "metadata": {},
   "outputs": [],
   "source": []
  },
  {
   "cell_type": "code",
   "execution_count": null,
   "metadata": {},
   "outputs": [],
   "source": []
  },
  {
   "cell_type": "code",
   "execution_count": null,
   "metadata": {},
   "outputs": [],
   "source": []
  }
 ],
 "metadata": {
  "kernelspec": {
   "display_name": "Python 3",
   "language": "python",
   "name": "python3"
  },
  "language_info": {
   "codemirror_mode": {
    "name": "ipython",
    "version": 3
   },
   "file_extension": ".py",
   "mimetype": "text/x-python",
   "name": "python",
   "nbconvert_exporter": "python",
   "pygments_lexer": "ipython3",
   "version": "3.8.1"
  }
 },
 "nbformat": 4,
 "nbformat_minor": 4
}
