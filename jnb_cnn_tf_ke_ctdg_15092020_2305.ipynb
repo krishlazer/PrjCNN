{
 "cells": [
  {
   "cell_type": "code",
   "execution_count": 1,
   "metadata": {},
   "outputs": [],
   "source": [
    "import numpy as np\n",
    "import matplotlib.pyplot as plt\n",
    "%matplotlib inline\n",
    "import os"
   ]
  },
  {
   "cell_type": "code",
   "execution_count": 2,
   "metadata": {},
   "outputs": [],
   "source": [
    "import cv2\n",
    "import random"
   ]
  },
  {
   "cell_type": "code",
   "execution_count": 3,
   "metadata": {},
   "outputs": [],
   "source": [
    "DIRECTORY = 'E:/KrishM/PythonPrjs/PyDatasets/ctdgex/dataset/training_set'\n",
    "CATEGORIES = ['cats', 'dogs']"
   ]
  },
  {
   "cell_type": "code",
   "execution_count": 4,
   "metadata": {},
   "outputs": [],
   "source": [
    "IMG_SIZE = 100\n",
    "cddata = []\n",
    "for category in CATEGORIES:\n",
    "    folder = os.path.join(DIRECTORY, category)\n",
    "    label = CATEGORIES.index(category)\n",
    "    for img in os.listdir(folder):\n",
    "        img_path = os.path.join(folder, img)\n",
    "        imgarr = cv2.imread(img_path)\n",
    "        imgarr = cv2.resize(imgarr, (IMG_SIZE, IMG_SIZE))\n",
    "        cddata.append([imgarr, label])    "
   ]
  },
  {
   "cell_type": "code",
   "execution_count": 5,
   "metadata": {},
   "outputs": [
    {
     "data": {
      "text/plain": [
       "8000"
      ]
     },
     "execution_count": 5,
     "metadata": {},
     "output_type": "execute_result"
    }
   ],
   "source": [
    "len(cddata)"
   ]
  },
  {
   "cell_type": "code",
   "execution_count": 6,
   "metadata": {},
   "outputs": [],
   "source": [
    "random.shuffle(cddata)"
   ]
  },
  {
   "cell_type": "code",
   "execution_count": 7,
   "metadata": {},
   "outputs": [],
   "source": [
    "X = []\n",
    "y = []"
   ]
  },
  {
   "cell_type": "code",
   "execution_count": 8,
   "metadata": {},
   "outputs": [],
   "source": [
    "for fe, lb in cddata:\n",
    "    X.append(fe)\n",
    "    y.append(lb)"
   ]
  },
  {
   "cell_type": "code",
   "execution_count": 9,
   "metadata": {},
   "outputs": [
    {
     "data": {
      "text/plain": [
       "list"
      ]
     },
     "execution_count": 9,
     "metadata": {},
     "output_type": "execute_result"
    }
   ],
   "source": [
    "type(X)"
   ]
  },
  {
   "cell_type": "code",
   "execution_count": 10,
   "metadata": {},
   "outputs": [
    {
     "data": {
      "text/plain": [
       "list"
      ]
     },
     "execution_count": 10,
     "metadata": {},
     "output_type": "execute_result"
    }
   ],
   "source": [
    "type(y)"
   ]
  },
  {
   "cell_type": "code",
   "execution_count": 11,
   "metadata": {},
   "outputs": [],
   "source": [
    "X = np.array(X)\n",
    "y = np.array(y)"
   ]
  },
  {
   "cell_type": "code",
   "execution_count": 12,
   "metadata": {},
   "outputs": [
    {
     "data": {
      "text/plain": [
       "8000"
      ]
     },
     "execution_count": 12,
     "metadata": {},
     "output_type": "execute_result"
    }
   ],
   "source": [
    "len(X)"
   ]
  },
  {
   "cell_type": "code",
   "execution_count": 13,
   "metadata": {},
   "outputs": [
    {
     "data": {
      "text/plain": [
       "8000"
      ]
     },
     "execution_count": 13,
     "metadata": {},
     "output_type": "execute_result"
    }
   ],
   "source": [
    "len(y)"
   ]
  },
  {
   "cell_type": "code",
   "execution_count": 14,
   "metadata": {},
   "outputs": [],
   "source": [
    "import pickle"
   ]
  },
  {
   "cell_type": "code",
   "execution_count": 15,
   "metadata": {},
   "outputs": [],
   "source": [
    "pickle.dump(X, open('X.pkl', 'wb'))\n",
    "pickle.dump(y, open('y.pkl', 'wb'))"
   ]
  },
  {
   "cell_type": "code",
   "execution_count": 20,
   "metadata": {},
   "outputs": [],
   "source": [
    "X = pickle.load(open('X.pkl', 'rb'))\n",
    "y = pickle.load(open('y.pkl', 'rb'))"
   ]
  },
  {
   "cell_type": "code",
   "execution_count": 21,
   "metadata": {},
   "outputs": [
    {
     "data": {
      "text/plain": [
       "array([[[[ 34,  37,  35],\n",
       "         [ 38,  41,  39],\n",
       "         [ 46,  49,  47],\n",
       "         ...,\n",
       "         [124, 123, 119],\n",
       "         [132, 131, 127],\n",
       "         [136, 131, 128]],\n",
       "\n",
       "        [[ 34,  37,  35],\n",
       "         [ 34,  37,  35],\n",
       "         [ 44,  47,  45],\n",
       "         ...,\n",
       "         [130, 129, 125],\n",
       "         [115, 114, 110],\n",
       "         [126, 123, 119]],\n",
       "\n",
       "        [[ 33,  36,  34],\n",
       "         [ 32,  35,  33],\n",
       "         [ 43,  46,  44],\n",
       "         ...,\n",
       "         [115, 114, 110],\n",
       "         [113, 112, 108],\n",
       "         [114, 115, 111]],\n",
       "\n",
       "        ...,\n",
       "\n",
       "        [[ 17,  20,  18],\n",
       "         [ 18,  21,  19],\n",
       "         [ 18,  21,  19],\n",
       "         ...,\n",
       "         [ 39,  40,  20],\n",
       "         [ 39,  40,  20],\n",
       "         [ 39,  39,  21]],\n",
       "\n",
       "        [[ 18,  21,  19],\n",
       "         [ 19,  22,  20],\n",
       "         [ 16,  19,  17],\n",
       "         ...,\n",
       "         [ 44,  45,  25],\n",
       "         [ 43,  44,  24],\n",
       "         [ 45,  45,  27]],\n",
       "\n",
       "        [[ 22,  27,  25],\n",
       "         [ 15,  20,  18],\n",
       "         [ 15,  20,  18],\n",
       "         ...,\n",
       "         [ 43,  42,  22],\n",
       "         [ 45,  44,  24],\n",
       "         [ 42,  42,  24]]],\n",
       "\n",
       "\n",
       "       [[[ 42,  41,  37],\n",
       "         [ 42,  41,  40],\n",
       "         [ 45,  42,  44],\n",
       "         ...,\n",
       "         [206, 214, 213],\n",
       "         [209, 214, 213],\n",
       "         [180, 182, 182]],\n",
       "\n",
       "        [[ 42,  43,  41],\n",
       "         [ 39,  39,  39],\n",
       "         [ 50,  49,  53],\n",
       "         ...,\n",
       "         [208, 216, 215],\n",
       "         [213, 218, 217],\n",
       "         [145, 147, 147]],\n",
       "\n",
       "        [[ 38,  43,  42],\n",
       "         [ 36,  40,  41],\n",
       "         [ 58,  61,  66],\n",
       "         ...,\n",
       "         [202, 210, 209],\n",
       "         [216, 221, 220],\n",
       "         [106, 108, 108]],\n",
       "\n",
       "        ...,\n",
       "\n",
       "        [[ 29,  35,  46],\n",
       "         [ 26,  32,  43],\n",
       "         [ 25,  31,  42],\n",
       "         ...,\n",
       "         [ 47,  59,  59],\n",
       "         [ 57,  68,  72],\n",
       "         [ 64,  74,  81]],\n",
       "\n",
       "        [[ 31,  33,  43],\n",
       "         [ 32,  34,  44],\n",
       "         [ 29,  31,  41],\n",
       "         ...,\n",
       "         [ 58,  72,  68],\n",
       "         [ 61,  69,  69],\n",
       "         [ 58,  63,  66]],\n",
       "\n",
       "        [[ 27,  30,  36],\n",
       "         [ 27,  30,  36],\n",
       "         [ 28,  31,  37],\n",
       "         ...,\n",
       "         [ 37,  42,  38],\n",
       "         [ 53,  61,  60],\n",
       "         [ 59,  71,  71]]],\n",
       "\n",
       "\n",
       "       [[[  4,   0,  75],\n",
       "         [  4,   0,  76],\n",
       "         [  5,   0,  80],\n",
       "         ...,\n",
       "         [  3,   0,  80],\n",
       "         [  3,   0,  80],\n",
       "         [  4,   0,  78]],\n",
       "\n",
       "        [[  4,   0,  75],\n",
       "         [  4,   0,  76],\n",
       "         [  5,   0,  80],\n",
       "         ...,\n",
       "         [  3,   0,  80],\n",
       "         [  3,   0,  80],\n",
       "         [  4,   0,  78]],\n",
       "\n",
       "        [[  3,   0,  74],\n",
       "         [  5,   1,  77],\n",
       "         [  7,   1,  82],\n",
       "         ...,\n",
       "         [  5,   2,  82],\n",
       "         [  5,   2,  82],\n",
       "         [  6,   1,  79]],\n",
       "\n",
       "        ...,\n",
       "\n",
       "        [[194, 191, 206],\n",
       "         [216, 213, 228],\n",
       "         [212, 209, 224],\n",
       "         ...,\n",
       "         [209, 209, 221],\n",
       "         [203, 203, 215],\n",
       "         [197, 205, 218]],\n",
       "\n",
       "        [[213, 215, 226],\n",
       "         [227, 227, 239],\n",
       "         [216, 212, 224],\n",
       "         ...,\n",
       "         [196, 195, 211],\n",
       "         [205, 204, 220],\n",
       "         [191, 190, 206]],\n",
       "\n",
       "        [[213, 215, 226],\n",
       "         [212, 212, 224],\n",
       "         [222, 218, 230],\n",
       "         ...,\n",
       "         [209, 208, 224],\n",
       "         [199, 198, 214],\n",
       "         [194, 193, 209]]],\n",
       "\n",
       "\n",
       "       ...,\n",
       "\n",
       "\n",
       "       [[[ 77,  96, 123],\n",
       "         [ 76,  95, 122],\n",
       "         [ 76,  96, 123],\n",
       "         ...,\n",
       "         [ 57,  82, 108],\n",
       "         [ 57,  82, 108],\n",
       "         [ 55,  80, 105]],\n",
       "\n",
       "        [[ 77,  96, 123],\n",
       "         [ 76,  95, 122],\n",
       "         [ 74,  93, 120],\n",
       "         ...,\n",
       "         [ 57,  82, 108],\n",
       "         [ 57,  82, 108],\n",
       "         [ 57,  82, 108]],\n",
       "\n",
       "        [[ 76,  95, 122],\n",
       "         [ 76,  95, 122],\n",
       "         [ 76,  95, 122],\n",
       "         ...,\n",
       "         [ 57,  82, 108],\n",
       "         [ 57,  82, 108],\n",
       "         [ 56,  81, 107]],\n",
       "\n",
       "        ...,\n",
       "\n",
       "        [[  0,   0,  18],\n",
       "         [  0,   2,  21],\n",
       "         [  0,   1,  22],\n",
       "         ...,\n",
       "         [ 43,  38,  35],\n",
       "         [ 37,  32,  29],\n",
       "         [ 33,  28,  25]],\n",
       "\n",
       "        [[  0,   1,  26],\n",
       "         [  0,   0,  26],\n",
       "         [  0,   1,  27],\n",
       "         ...,\n",
       "         [ 43,  37,  32],\n",
       "         [ 36,  30,  25],\n",
       "         [ 35,  29,  24]],\n",
       "\n",
       "        [[  3,   1,  29],\n",
       "         [  1,   0,  25],\n",
       "         [  2,   0,  23],\n",
       "         ...,\n",
       "         [ 41,  33,  27],\n",
       "         [ 38,  29,  23],\n",
       "         [ 37,  28,  22]]],\n",
       "\n",
       "\n",
       "       [[[112, 115, 120],\n",
       "         [114, 117, 122],\n",
       "         [117, 120, 125],\n",
       "         ...,\n",
       "         [149, 144, 146],\n",
       "         [147, 141, 146],\n",
       "         [147, 149, 156]],\n",
       "\n",
       "        [[114, 117, 122],\n",
       "         [116, 119, 124],\n",
       "         [117, 120, 125],\n",
       "         ...,\n",
       "         [141, 136, 134],\n",
       "         [153, 146, 149],\n",
       "         [149, 143, 144]],\n",
       "\n",
       "        [[114, 117, 122],\n",
       "         [115, 118, 123],\n",
       "         [117, 120, 125],\n",
       "         ...,\n",
       "         [142, 136, 130],\n",
       "         [155, 148, 145],\n",
       "         [148, 137, 133]],\n",
       "\n",
       "        ...,\n",
       "\n",
       "        [[108, 108, 114],\n",
       "         [108, 108, 114],\n",
       "         [107, 107, 113],\n",
       "         ...,\n",
       "         [183, 188, 203],\n",
       "         [191, 196, 211],\n",
       "         [185, 192, 207]],\n",
       "\n",
       "        [[ 29,  29,  29],\n",
       "         [ 95,  94,  95],\n",
       "         [ 24,  24,  24],\n",
       "         ...,\n",
       "         [181, 183, 201],\n",
       "         [191, 193, 211],\n",
       "         [179, 180, 200]],\n",
       "\n",
       "        [[  8,   8,   8],\n",
       "         [  8,   8,   8],\n",
       "         [ 11,  11,  11],\n",
       "         ...,\n",
       "         [190, 192, 210],\n",
       "         [198, 200, 218],\n",
       "         [191, 192, 212]]],\n",
       "\n",
       "\n",
       "       [[[139, 174, 183],\n",
       "         [136, 168, 173],\n",
       "         [117, 145, 147],\n",
       "         ...,\n",
       "         [195, 228, 231],\n",
       "         [137, 178, 187],\n",
       "         [ 97, 140, 137]],\n",
       "\n",
       "        [[140, 170, 172],\n",
       "         [113, 143, 148],\n",
       "         [132, 165, 171],\n",
       "         ...,\n",
       "         [175, 207, 212],\n",
       "         [111, 153, 160],\n",
       "         [129, 187, 176]],\n",
       "\n",
       "        [[193, 219, 219],\n",
       "         [162, 193, 196],\n",
       "         [109, 144, 154],\n",
       "         ...,\n",
       "         [144, 176, 181],\n",
       "         [102, 145, 148],\n",
       "         [ 99, 165, 153]],\n",
       "\n",
       "        ...,\n",
       "\n",
       "        [[132, 122, 104],\n",
       "         [ 94,  92,  94],\n",
       "         [ 93,  83,  85],\n",
       "         ...,\n",
       "         [ 92, 132, 131],\n",
       "         [102, 148, 150],\n",
       "         [ 56, 100,  93]],\n",
       "\n",
       "        [[149, 134, 115],\n",
       "         [168, 165, 160],\n",
       "         [131, 129, 128],\n",
       "         ...,\n",
       "         [ 51,  87,  90],\n",
       "         [ 81, 131, 127],\n",
       "         [144, 189, 180]],\n",
       "\n",
       "        [[107,  98,  92],\n",
       "         [ 86,  85,  79],\n",
       "         [132, 138, 133],\n",
       "         ...,\n",
       "         [ 88, 120, 125],\n",
       "         [ 68, 110, 113],\n",
       "         [ 76, 120, 113]]]], dtype=uint8)"
      ]
     },
     "execution_count": 21,
     "metadata": {},
     "output_type": "execute_result"
    }
   ],
   "source": [
    "X"
   ]
  },
  {
   "cell_type": "code",
   "execution_count": 22,
   "metadata": {},
   "outputs": [
    {
     "data": {
      "text/plain": [
       "array([0, 0, 0, ..., 0, 0, 1])"
      ]
     },
     "execution_count": 22,
     "metadata": {},
     "output_type": "execute_result"
    }
   ],
   "source": [
    "y"
   ]
  },
  {
   "cell_type": "code",
   "execution_count": 23,
   "metadata": {},
   "outputs": [
    {
     "data": {
      "text/plain": [
       "8000"
      ]
     },
     "execution_count": 23,
     "metadata": {},
     "output_type": "execute_result"
    }
   ],
   "source": [
    "len(y)"
   ]
  },
  {
   "cell_type": "code",
   "execution_count": 24,
   "metadata": {},
   "outputs": [],
   "source": [
    "X = X/255"
   ]
  },
  {
   "cell_type": "code",
   "execution_count": 26,
   "metadata": {},
   "outputs": [
    {
     "data": {
      "text/plain": [
       "(8000, 100, 100, 3)"
      ]
     },
     "execution_count": 26,
     "metadata": {},
     "output_type": "execute_result"
    }
   ],
   "source": [
    "X.shape"
   ]
  },
  {
   "cell_type": "code",
   "execution_count": 27,
   "metadata": {},
   "outputs": [
    {
     "data": {
      "text/plain": [
       "numpy.ndarray"
      ]
     },
     "execution_count": 27,
     "metadata": {},
     "output_type": "execute_result"
    }
   ],
   "source": [
    "type(X)"
   ]
  },
  {
   "cell_type": "code",
   "execution_count": 29,
   "metadata": {},
   "outputs": [],
   "source": [
    "import tensorflow as tf\n",
    "from tensorflow.keras.models import Sequential\n",
    "from tensorflow.keras.layers import Conv2D, MaxPooling2D, Dense, Flatten"
   ]
  },
  {
   "cell_type": "code",
   "execution_count": 45,
   "metadata": {},
   "outputs": [],
   "source": [
    "model = Sequential()"
   ]
  },
  {
   "cell_type": "code",
   "execution_count": 46,
   "metadata": {},
   "outputs": [],
   "source": [
    "model.add(Conv2D(128, (3,3), activation = 'relu'))\n",
    "model.add(MaxPooling2D((2,2)))\n",
    "model.add(Conv2D(128, (3,3), activation = 'relu'))\n",
    "model.add(MaxPooling2D((2,2)))\n",
    "model.add(Flatten())"
   ]
  },
  {
   "cell_type": "code",
   "execution_count": 47,
   "metadata": {},
   "outputs": [],
   "source": [
    "model.add(Dense(128, input_shape=(100, 100, 3), activation = 'relu'))\n",
    "model.add(Dense(2, activation = 'softmax'))"
   ]
  },
  {
   "cell_type": "code",
   "execution_count": 48,
   "metadata": {},
   "outputs": [],
   "source": [
    "model.compile(optimizer='adam', loss='sparse_categorical_crossentropy', metrics = ['accuracy'])"
   ]
  },
  {
   "cell_type": "code",
   "execution_count": 49,
   "metadata": {},
   "outputs": [
    {
     "name": "stdout",
     "output_type": "stream",
     "text": [
      "Epoch 1/10\n",
      "200/200 [==============================] - 239s 1s/step - loss: 0.7121 - accuracy: 0.5128 - val_loss: 0.6817 - val_accuracy: 0.5831\n",
      "Epoch 2/10\n",
      "200/200 [==============================] - 234s 1s/step - loss: 0.6643 - accuracy: 0.6008 - val_loss: 0.6507 - val_accuracy: 0.6494\n",
      "Epoch 3/10\n",
      "200/200 [==============================] - 234s 1s/step - loss: 0.6064 - accuracy: 0.6641 - val_loss: 0.6370 - val_accuracy: 0.6687\n",
      "Epoch 4/10\n",
      "200/200 [==============================] - 233s 1s/step - loss: 0.5029 - accuracy: 0.7530 - val_loss: 0.6585 - val_accuracy: 0.6669\n",
      "Epoch 5/10\n",
      "200/200 [==============================] - 233s 1s/step - loss: 0.3514 - accuracy: 0.8434 - val_loss: 0.7903 - val_accuracy: 0.6544\n",
      "Epoch 6/10\n",
      "200/200 [==============================] - 233s 1s/step - loss: 0.1801 - accuracy: 0.9278 - val_loss: 0.9825 - val_accuracy: 0.6456\n",
      "Epoch 7/10\n",
      "200/200 [==============================] - 234s 1s/step - loss: 0.0671 - accuracy: 0.9797 - val_loss: 1.5126 - val_accuracy: 0.6544\n",
      "Epoch 8/10\n",
      "200/200 [==============================] - 235s 1s/step - loss: 0.0266 - accuracy: 0.9933 - val_loss: 1.7569 - val_accuracy: 0.6644\n",
      "Epoch 9/10\n",
      "200/200 [==============================] - 451s 2s/step - loss: 0.0143 - accuracy: 0.9967 - val_loss: 1.9383 - val_accuracy: 0.6762\n",
      "Epoch 10/10\n",
      "200/200 [==============================] - 235s 1s/step - loss: 0.0059 - accuracy: 0.9994 - val_loss: 2.3473 - val_accuracy: 0.6725\n"
     ]
    },
    {
     "data": {
      "text/plain": [
       "<tensorflow.python.keras.callbacks.History at 0x1e2d964db20>"
      ]
     },
     "execution_count": 49,
     "metadata": {},
     "output_type": "execute_result"
    }
   ],
   "source": [
    "model.fit(X, y, epochs = 10, validation_split = 0.2)"
   ]
  },
  {
   "cell_type": "code",
   "execution_count": null,
   "metadata": {},
   "outputs": [],
   "source": []
  }
 ],
 "metadata": {
  "kernelspec": {
   "display_name": "Python 3",
   "language": "python",
   "name": "python3"
  },
  "language_info": {
   "codemirror_mode": {
    "name": "ipython",
    "version": 3
   },
   "file_extension": ".py",
   "mimetype": "text/x-python",
   "name": "python",
   "nbconvert_exporter": "python",
   "pygments_lexer": "ipython3",
   "version": "3.8.1"
  }
 },
 "nbformat": 4,
 "nbformat_minor": 4
}
