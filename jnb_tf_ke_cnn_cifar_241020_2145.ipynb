{
 "cells": [
  {
   "cell_type": "code",
   "execution_count": 2,
   "metadata": {},
   "outputs": [],
   "source": [
    "import tensorflow as tf\n",
    "import tensorflow.keras\n",
    "import matplotlib.pyplot as plt\n",
    "%matplotlib inline\n",
    "from tensorflow.keras.models import Sequential\n",
    "from tensorflow.keras.layers import Conv2D, Dense, Flatten, MaxPool2D, Dropout, BatchNormalization\n",
    "from tensorflow.keras.datasets import cifar10\n",
    "from sklearn.preprocessing import LabelEncoder"
   ]
  },
  {
   "cell_type": "code",
   "execution_count": 3,
   "metadata": {},
   "outputs": [],
   "source": [
    "(train2_images, train2_labels), (test2_images, test2_labels) = cifar10.load_data()"
   ]
  },
  {
   "cell_type": "code",
   "execution_count": 4,
   "metadata": {},
   "outputs": [
    {
     "data": {
      "text/plain": [
       "<matplotlib.image.AxesImage at 0x182ef461760>"
      ]
     },
     "execution_count": 4,
     "metadata": {},
     "output_type": "execute_result"
    },
    {
     "data": {
      "image/png": "[encoded data removed]",
      "text/plain": [
       "<Figure size 288x288 with 1 Axes>"
      ]
     },
     "metadata": {
      "needs_background": "light"
     },
     "output_type": "display_data"
    }
   ],
   "source": [
    "plt.matshow(train2_images[309])"
   ]
  },
  {
   "cell_type": "code",
   "execution_count": 4,
   "metadata": {},
   "outputs": [
    {
     "data": {
      "text/plain": [
       "array([8], dtype=uint8)"
      ]
     },
     "execution_count": 4,
     "metadata": {},
     "output_type": "execute_result"
    }
   ],
   "source": [
    "train2_labels[309]"
   ]
  },
  {
   "cell_type": "code",
   "execution_count": 5,
   "metadata": {},
   "outputs": [
    {
     "data": {
      "text/plain": [
       "<matplotlib.image.AxesImage at 0x29fc1663790>"
      ]
     },
     "execution_count": 5,
     "metadata": {},
     "output_type": "execute_result"
    },
    {
     "data": {
      "image/png": "[encoded data removed]",
      "text/plain": [
       "<Figure size 288x288 with 1 Axes>"
      ]
     },
     "metadata": {
      "needs_background": "light"
     },
     "output_type": "display_data"
    }
   ],
   "source": [
    "plt.matshow(test2_images[211])"
   ]
  },
  {
   "cell_type": "code",
   "execution_count": 6,
   "metadata": {},
   "outputs": [
    {
     "data": {
      "text/plain": [
       "array([4], dtype=uint8)"
      ]
     },
     "execution_count": 6,
     "metadata": {},
     "output_type": "execute_result"
    }
   ],
   "source": [
    "test2_labels[211]"
   ]
  },
  {
   "cell_type": "code",
   "execution_count": 7,
   "metadata": {
    "scrolled": true
   },
   "outputs": [
    {
     "data": {
      "text/plain": [
       "(50000, 32, 32, 3)"
      ]
     },
     "execution_count": 7,
     "metadata": {},
     "output_type": "execute_result"
    }
   ],
   "source": [
    "train2_images.shape"
   ]
  },
  {
   "cell_type": "code",
   "execution_count": 8,
   "metadata": {},
   "outputs": [
    {
     "data": {
      "text/plain": [
       "(32, 32, 3)"
      ]
     },
     "execution_count": 8,
     "metadata": {},
     "output_type": "execute_result"
    }
   ],
   "source": [
    "train2_images[0].shape"
   ]
  },
  {
   "cell_type": "code",
   "execution_count": 9,
   "metadata": {},
   "outputs": [
    {
     "data": {
      "text/plain": [
       "(10000, 32, 32, 3)"
      ]
     },
     "execution_count": 9,
     "metadata": {},
     "output_type": "execute_result"
    }
   ],
   "source": [
    "test2_images.shape"
   ]
  },
  {
   "cell_type": "code",
   "execution_count": 10,
   "metadata": {},
   "outputs": [
    {
     "data": {
      "text/plain": [
       "(32, 32, 3)"
      ]
     },
     "execution_count": 10,
     "metadata": {},
     "output_type": "execute_result"
    }
   ],
   "source": [
    "test2_images[0].shape"
   ]
  },
  {
   "cell_type": "code",
   "execution_count": 11,
   "metadata": {},
   "outputs": [],
   "source": [
    "cflabels = ['airplane', 'automobile', 'bird', 'cat', 'deer', 'dog', 'frog', 'horse', 'ship', 'truck']"
   ]
  },
  {
   "cell_type": "code",
   "execution_count": 12,
   "metadata": {},
   "outputs": [
    {
     "data": {
      "text/plain": [
       "array([[6],\n",
       "       [9],\n",
       "       [9],\n",
       "       ...,\n",
       "       [9],\n",
       "       [1],\n",
       "       [1]], dtype=uint8)"
      ]
     },
     "execution_count": 12,
     "metadata": {},
     "output_type": "execute_result"
    }
   ],
   "source": [
    "train2_labels"
   ]
  },
  {
   "cell_type": "code",
   "execution_count": 13,
   "metadata": {},
   "outputs": [
    {
     "data": {
      "text/plain": [
       "array([8], dtype=uint8)"
      ]
     },
     "execution_count": 13,
     "metadata": {},
     "output_type": "execute_result"
    }
   ],
   "source": [
    "train2_labels[309]"
   ]
  },
  {
   "cell_type": "code",
   "execution_count": 14,
   "metadata": {},
   "outputs": [
    {
     "data": {
      "text/plain": [
       "array([4], dtype=uint8)"
      ]
     },
     "execution_count": 14,
     "metadata": {},
     "output_type": "execute_result"
    }
   ],
   "source": [
    "test2_labels[211]"
   ]
  },
  {
   "cell_type": "code",
   "execution_count": 15,
   "metadata": {},
   "outputs": [
    {
     "data": {
      "text/plain": [
       "numpy.ndarray"
      ]
     },
     "execution_count": 15,
     "metadata": {},
     "output_type": "execute_result"
    }
   ],
   "source": [
    "type(train2_labels)"
   ]
  },
  {
   "cell_type": "code",
   "execution_count": 16,
   "metadata": {},
   "outputs": [
    {
     "data": {
      "text/plain": [
       "50000"
      ]
     },
     "execution_count": 16,
     "metadata": {},
     "output_type": "execute_result"
    }
   ],
   "source": [
    "len(train2_labels)"
   ]
  },
  {
   "cell_type": "code",
   "execution_count": 17,
   "metadata": {},
   "outputs": [
    {
     "data": {
      "text/plain": [
       "(50000, 1)"
      ]
     },
     "execution_count": 17,
     "metadata": {},
     "output_type": "execute_result"
    }
   ],
   "source": [
    "train2_labels.shape"
   ]
  },
  {
   "cell_type": "code",
   "execution_count": 18,
   "metadata": {},
   "outputs": [
    {
     "data": {
      "text/plain": [
       "numpy.ndarray"
      ]
     },
     "execution_count": 18,
     "metadata": {},
     "output_type": "execute_result"
    }
   ],
   "source": [
    "type(test2_labels)"
   ]
  },
  {
   "cell_type": "code",
   "execution_count": 19,
   "metadata": {},
   "outputs": [
    {
     "data": {
      "text/plain": [
       "10000"
      ]
     },
     "execution_count": 19,
     "metadata": {},
     "output_type": "execute_result"
    }
   ],
   "source": [
    "len(test2_labels)"
   ]
  },
  {
   "cell_type": "code",
   "execution_count": 20,
   "metadata": {},
   "outputs": [
    {
     "data": {
      "text/plain": [
       "(10000, 1)"
      ]
     },
     "execution_count": 20,
     "metadata": {},
     "output_type": "execute_result"
    }
   ],
   "source": [
    "test2_labels.shape"
   ]
  },
  {
   "cell_type": "code",
   "execution_count": 21,
   "metadata": {},
   "outputs": [],
   "source": [
    "cflabels = LabelEncoder().fit_transform(cflabels)"
   ]
  },
  {
   "cell_type": "code",
   "execution_count": 22,
   "metadata": {},
   "outputs": [
    {
     "data": {
      "text/plain": [
       "array([0, 1, 2, 3, 4, 5, 6, 7, 8, 9], dtype=int64)"
      ]
     },
     "execution_count": 22,
     "metadata": {},
     "output_type": "execute_result"
    }
   ],
   "source": [
    "cflabels"
   ]
  },
  {
   "cell_type": "code",
   "execution_count": 23,
   "metadata": {},
   "outputs": [
    {
     "data": {
      "text/plain": [
       "array([[6],\n",
       "       [9],\n",
       "       [9],\n",
       "       ...,\n",
       "       [9],\n",
       "       [1],\n",
       "       [1]], dtype=uint8)"
      ]
     },
     "execution_count": 23,
     "metadata": {},
     "output_type": "execute_result"
    }
   ],
   "source": [
    "train2_labels"
   ]
  },
  {
   "cell_type": "code",
   "execution_count": 24,
   "metadata": {},
   "outputs": [],
   "source": [
    "train2_images = train2_images / 255.0\n",
    "test2_images = test2_images / 255.0"
   ]
  },
  {
   "cell_type": "code",
   "execution_count": 25,
   "metadata": {},
   "outputs": [
    {
     "data": {
      "text/plain": [
       "array([[[[0.23137255, 0.24313725, 0.24705882],\n",
       "         [0.16862745, 0.18039216, 0.17647059],\n",
       "         [0.19607843, 0.18823529, 0.16862745],\n",
       "         ...,\n",
       "         [0.61960784, 0.51764706, 0.42352941],\n",
       "         [0.59607843, 0.49019608, 0.4       ],\n",
       "         [0.58039216, 0.48627451, 0.40392157]],\n",
       "\n",
       "        [[0.0627451 , 0.07843137, 0.07843137],\n",
       "         [0.        , 0.        , 0.        ],\n",
       "         [0.07058824, 0.03137255, 0.        ],\n",
       "         ...,\n",
       "         [0.48235294, 0.34509804, 0.21568627],\n",
       "         [0.46666667, 0.3254902 , 0.19607843],\n",
       "         [0.47843137, 0.34117647, 0.22352941]],\n",
       "\n",
       "        [[0.09803922, 0.09411765, 0.08235294],\n",
       "         [0.0627451 , 0.02745098, 0.        ],\n",
       "         [0.19215686, 0.10588235, 0.03137255],\n",
       "         ...,\n",
       "         [0.4627451 , 0.32941176, 0.19607843],\n",
       "         [0.47058824, 0.32941176, 0.19607843],\n",
       "         [0.42745098, 0.28627451, 0.16470588]],\n",
       "\n",
       "        ...,\n",
       "\n",
       "        [[0.81568627, 0.66666667, 0.37647059],\n",
       "         [0.78823529, 0.6       , 0.13333333],\n",
       "         [0.77647059, 0.63137255, 0.10196078],\n",
       "         ...,\n",
       "         [0.62745098, 0.52156863, 0.2745098 ],\n",
       "         [0.21960784, 0.12156863, 0.02745098],\n",
       "         [0.20784314, 0.13333333, 0.07843137]],\n",
       "\n",
       "        [[0.70588235, 0.54509804, 0.37647059],\n",
       "         [0.67843137, 0.48235294, 0.16470588],\n",
       "         [0.72941176, 0.56470588, 0.11764706],\n",
       "         ...,\n",
       "         [0.72156863, 0.58039216, 0.36862745],\n",
       "         [0.38039216, 0.24313725, 0.13333333],\n",
       "         [0.3254902 , 0.20784314, 0.13333333]],\n",
       "\n",
       "        [[0.69411765, 0.56470588, 0.45490196],\n",
       "         [0.65882353, 0.50588235, 0.36862745],\n",
       "         [0.70196078, 0.55686275, 0.34117647],\n",
       "         ...,\n",
       "         [0.84705882, 0.72156863, 0.54901961],\n",
       "         [0.59215686, 0.4627451 , 0.32941176],\n",
       "         [0.48235294, 0.36078431, 0.28235294]]],\n",
       "\n",
       "\n",
       "       [[[0.60392157, 0.69411765, 0.73333333],\n",
       "         [0.49411765, 0.5372549 , 0.53333333],\n",
       "         [0.41176471, 0.40784314, 0.37254902],\n",
       "         ...,\n",
       "         [0.35686275, 0.37254902, 0.27843137],\n",
       "         [0.34117647, 0.35294118, 0.27843137],\n",
       "         [0.30980392, 0.31764706, 0.2745098 ]],\n",
       "\n",
       "        [[0.54901961, 0.62745098, 0.6627451 ],\n",
       "         [0.56862745, 0.6       , 0.60392157],\n",
       "         [0.49019608, 0.49019608, 0.4627451 ],\n",
       "         ...,\n",
       "         [0.37647059, 0.38823529, 0.30588235],\n",
       "         [0.30196078, 0.31372549, 0.24313725],\n",
       "         [0.27843137, 0.28627451, 0.23921569]],\n",
       "\n",
       "        [[0.54901961, 0.60784314, 0.64313725],\n",
       "         [0.54509804, 0.57254902, 0.58431373],\n",
       "         [0.45098039, 0.45098039, 0.43921569],\n",
       "         ...,\n",
       "         [0.30980392, 0.32156863, 0.25098039],\n",
       "         [0.26666667, 0.2745098 , 0.21568627],\n",
       "         [0.2627451 , 0.27058824, 0.21568627]],\n",
       "\n",
       "        ...,\n",
       "\n",
       "        [[0.68627451, 0.65490196, 0.65098039],\n",
       "         [0.61176471, 0.60392157, 0.62745098],\n",
       "         [0.60392157, 0.62745098, 0.66666667],\n",
       "         ...,\n",
       "         [0.16470588, 0.13333333, 0.14117647],\n",
       "         [0.23921569, 0.20784314, 0.22352941],\n",
       "         [0.36470588, 0.3254902 , 0.35686275]],\n",
       "\n",
       "        [[0.64705882, 0.60392157, 0.50196078],\n",
       "         [0.61176471, 0.59607843, 0.50980392],\n",
       "         [0.62352941, 0.63137255, 0.55686275],\n",
       "         ...,\n",
       "         [0.40392157, 0.36470588, 0.37647059],\n",
       "         [0.48235294, 0.44705882, 0.47058824],\n",
       "         [0.51372549, 0.4745098 , 0.51372549]],\n",
       "\n",
       "        [[0.63921569, 0.58039216, 0.47058824],\n",
       "         [0.61960784, 0.58039216, 0.47843137],\n",
       "         [0.63921569, 0.61176471, 0.52156863],\n",
       "         ...,\n",
       "         [0.56078431, 0.52156863, 0.54509804],\n",
       "         [0.56078431, 0.5254902 , 0.55686275],\n",
       "         [0.56078431, 0.52156863, 0.56470588]]],\n",
       "\n",
       "\n",
       "       [[[1.        , 1.        , 1.        ],\n",
       "         [0.99215686, 0.99215686, 0.99215686],\n",
       "         [0.99215686, 0.99215686, 0.99215686],\n",
       "         ...,\n",
       "         [0.99215686, 0.99215686, 0.99215686],\n",
       "         [0.99215686, 0.99215686, 0.99215686],\n",
       "         [0.99215686, 0.99215686, 0.99215686]],\n",
       "\n",
       "        [[1.        , 1.        , 1.        ],\n",
       "         [1.        , 1.        , 1.        ],\n",
       "         [1.        , 1.        , 1.        ],\n",
       "         ...,\n",
       "         [1.        , 1.        , 1.        ],\n",
       "         [1.        , 1.        , 1.        ],\n",
       "         [1.        , 1.        , 1.        ]],\n",
       "\n",
       "        [[1.        , 1.        , 1.        ],\n",
       "         [0.99607843, 0.99607843, 0.99607843],\n",
       "         [0.99607843, 0.99607843, 0.99607843],\n",
       "         ...,\n",
       "         [0.99607843, 0.99607843, 0.99607843],\n",
       "         [0.99607843, 0.99607843, 0.99607843],\n",
       "         [0.99607843, 0.99607843, 0.99607843]],\n",
       "\n",
       "        ...,\n",
       "\n",
       "        [[0.44313725, 0.47058824, 0.43921569],\n",
       "         [0.43529412, 0.4627451 , 0.43529412],\n",
       "         [0.41176471, 0.43921569, 0.41568627],\n",
       "         ...,\n",
       "         [0.28235294, 0.31764706, 0.31372549],\n",
       "         [0.28235294, 0.31372549, 0.30980392],\n",
       "         [0.28235294, 0.31372549, 0.30980392]],\n",
       "\n",
       "        [[0.43529412, 0.4627451 , 0.43137255],\n",
       "         [0.40784314, 0.43529412, 0.40784314],\n",
       "         [0.38823529, 0.41568627, 0.38431373],\n",
       "         ...,\n",
       "         [0.26666667, 0.29411765, 0.28627451],\n",
       "         [0.2745098 , 0.29803922, 0.29411765],\n",
       "         [0.30588235, 0.32941176, 0.32156863]],\n",
       "\n",
       "        [[0.41568627, 0.44313725, 0.41176471],\n",
       "         [0.38823529, 0.41568627, 0.38431373],\n",
       "         [0.37254902, 0.4       , 0.36862745],\n",
       "         ...,\n",
       "         [0.30588235, 0.33333333, 0.3254902 ],\n",
       "         [0.30980392, 0.33333333, 0.3254902 ],\n",
       "         [0.31372549, 0.3372549 , 0.32941176]]],\n",
       "\n",
       "\n",
       "       ...,\n",
       "\n",
       "\n",
       "       [[[0.1372549 , 0.69803922, 0.92156863],\n",
       "         [0.15686275, 0.69019608, 0.9372549 ],\n",
       "         [0.16470588, 0.69019608, 0.94509804],\n",
       "         ...,\n",
       "         [0.38823529, 0.69411765, 0.85882353],\n",
       "         [0.30980392, 0.57647059, 0.77254902],\n",
       "         [0.34901961, 0.58039216, 0.74117647]],\n",
       "\n",
       "        [[0.22352941, 0.71372549, 0.91764706],\n",
       "         [0.17254902, 0.72156863, 0.98039216],\n",
       "         [0.19607843, 0.71764706, 0.94117647],\n",
       "         ...,\n",
       "         [0.61176471, 0.71372549, 0.78431373],\n",
       "         [0.55294118, 0.69411765, 0.80784314],\n",
       "         [0.45490196, 0.58431373, 0.68627451]],\n",
       "\n",
       "        [[0.38431373, 0.77254902, 0.92941176],\n",
       "         [0.25098039, 0.74117647, 0.98823529],\n",
       "         [0.27058824, 0.75294118, 0.96078431],\n",
       "         ...,\n",
       "         [0.7372549 , 0.76470588, 0.80784314],\n",
       "         [0.46666667, 0.52941176, 0.57647059],\n",
       "         [0.23921569, 0.30980392, 0.35294118]],\n",
       "\n",
       "        ...,\n",
       "\n",
       "        [[0.28627451, 0.30980392, 0.30196078],\n",
       "         [0.20784314, 0.24705882, 0.26666667],\n",
       "         [0.21176471, 0.26666667, 0.31372549],\n",
       "         ...,\n",
       "         [0.06666667, 0.15686275, 0.25098039],\n",
       "         [0.08235294, 0.14117647, 0.2       ],\n",
       "         [0.12941176, 0.18823529, 0.19215686]],\n",
       "\n",
       "        [[0.23921569, 0.26666667, 0.29411765],\n",
       "         [0.21568627, 0.2745098 , 0.3372549 ],\n",
       "         [0.22352941, 0.30980392, 0.40392157],\n",
       "         ...,\n",
       "         [0.09411765, 0.18823529, 0.28235294],\n",
       "         [0.06666667, 0.1372549 , 0.20784314],\n",
       "         [0.02745098, 0.09019608, 0.1254902 ]],\n",
       "\n",
       "        [[0.17254902, 0.21960784, 0.28627451],\n",
       "         [0.18039216, 0.25882353, 0.34509804],\n",
       "         [0.19215686, 0.30196078, 0.41176471],\n",
       "         ...,\n",
       "         [0.10588235, 0.20392157, 0.30196078],\n",
       "         [0.08235294, 0.16862745, 0.25882353],\n",
       "         [0.04705882, 0.12156863, 0.19607843]]],\n",
       "\n",
       "\n",
       "       [[[0.74117647, 0.82745098, 0.94117647],\n",
       "         [0.72941176, 0.81568627, 0.9254902 ],\n",
       "         [0.7254902 , 0.81176471, 0.92156863],\n",
       "         ...,\n",
       "         [0.68627451, 0.76470588, 0.87843137],\n",
       "         [0.6745098 , 0.76078431, 0.87058824],\n",
       "         [0.6627451 , 0.76078431, 0.8627451 ]],\n",
       "\n",
       "        [[0.76078431, 0.82352941, 0.9372549 ],\n",
       "         [0.74901961, 0.81176471, 0.9254902 ],\n",
       "         [0.74509804, 0.80784314, 0.92156863],\n",
       "         ...,\n",
       "         [0.67843137, 0.75294118, 0.8627451 ],\n",
       "         [0.67058824, 0.74901961, 0.85490196],\n",
       "         [0.65490196, 0.74509804, 0.84705882]],\n",
       "\n",
       "        [[0.81568627, 0.85882353, 0.95686275],\n",
       "         [0.80392157, 0.84705882, 0.94117647],\n",
       "         [0.8       , 0.84313725, 0.9372549 ],\n",
       "         ...,\n",
       "         [0.68627451, 0.74901961, 0.85098039],\n",
       "         [0.6745098 , 0.74509804, 0.84705882],\n",
       "         [0.6627451 , 0.74901961, 0.84313725]],\n",
       "\n",
       "        ...,\n",
       "\n",
       "        [[0.81176471, 0.78039216, 0.70980392],\n",
       "         [0.79607843, 0.76470588, 0.68627451],\n",
       "         [0.79607843, 0.76862745, 0.67843137],\n",
       "         ...,\n",
       "         [0.52941176, 0.51764706, 0.49803922],\n",
       "         [0.63529412, 0.61960784, 0.58823529],\n",
       "         [0.65882353, 0.63921569, 0.59215686]],\n",
       "\n",
       "        [[0.77647059, 0.74509804, 0.66666667],\n",
       "         [0.74117647, 0.70980392, 0.62352941],\n",
       "         [0.70588235, 0.6745098 , 0.57647059],\n",
       "         ...,\n",
       "         [0.69803922, 0.67058824, 0.62745098],\n",
       "         [0.68627451, 0.6627451 , 0.61176471],\n",
       "         [0.68627451, 0.6627451 , 0.60392157]],\n",
       "\n",
       "        [[0.77647059, 0.74117647, 0.67843137],\n",
       "         [0.74117647, 0.70980392, 0.63529412],\n",
       "         [0.69803922, 0.66666667, 0.58431373],\n",
       "         ...,\n",
       "         [0.76470588, 0.72156863, 0.6627451 ],\n",
       "         [0.76862745, 0.74117647, 0.67058824],\n",
       "         [0.76470588, 0.74509804, 0.67058824]]],\n",
       "\n",
       "\n",
       "       [[[0.89803922, 0.89803922, 0.9372549 ],\n",
       "         [0.9254902 , 0.92941176, 0.96862745],\n",
       "         [0.91764706, 0.9254902 , 0.96862745],\n",
       "         ...,\n",
       "         [0.85098039, 0.85882353, 0.91372549],\n",
       "         [0.86666667, 0.8745098 , 0.91764706],\n",
       "         [0.87058824, 0.8745098 , 0.91372549]],\n",
       "\n",
       "        [[0.87058824, 0.86666667, 0.89803922],\n",
       "         [0.9372549 , 0.9372549 , 0.97647059],\n",
       "         [0.91372549, 0.91764706, 0.96470588],\n",
       "         ...,\n",
       "         [0.8745098 , 0.8745098 , 0.9254902 ],\n",
       "         [0.89019608, 0.89411765, 0.93333333],\n",
       "         [0.82352941, 0.82745098, 0.8627451 ]],\n",
       "\n",
       "        [[0.83529412, 0.80784314, 0.82745098],\n",
       "         [0.91764706, 0.90980392, 0.9372549 ],\n",
       "         [0.90588235, 0.91372549, 0.95686275],\n",
       "         ...,\n",
       "         [0.8627451 , 0.8627451 , 0.90980392],\n",
       "         [0.8627451 , 0.85882353, 0.90980392],\n",
       "         [0.79215686, 0.79607843, 0.84313725]],\n",
       "\n",
       "        ...,\n",
       "\n",
       "        [[0.58823529, 0.56078431, 0.52941176],\n",
       "         [0.54901961, 0.52941176, 0.49803922],\n",
       "         [0.51764706, 0.49803922, 0.47058824],\n",
       "         ...,\n",
       "         [0.87843137, 0.87058824, 0.85490196],\n",
       "         [0.90196078, 0.89411765, 0.88235294],\n",
       "         [0.94509804, 0.94509804, 0.93333333]],\n",
       "\n",
       "        [[0.5372549 , 0.51764706, 0.49411765],\n",
       "         [0.50980392, 0.49803922, 0.47058824],\n",
       "         [0.49019608, 0.4745098 , 0.45098039],\n",
       "         ...,\n",
       "         [0.70980392, 0.70588235, 0.69803922],\n",
       "         [0.79215686, 0.78823529, 0.77647059],\n",
       "         [0.83137255, 0.82745098, 0.81176471]],\n",
       "\n",
       "        [[0.47843137, 0.46666667, 0.44705882],\n",
       "         [0.4627451 , 0.45490196, 0.43137255],\n",
       "         [0.47058824, 0.45490196, 0.43529412],\n",
       "         ...,\n",
       "         [0.70196078, 0.69411765, 0.67843137],\n",
       "         [0.64313725, 0.64313725, 0.63529412],\n",
       "         [0.63921569, 0.63921569, 0.63137255]]]])"
      ]
     },
     "execution_count": 25,
     "metadata": {},
     "output_type": "execute_result"
    }
   ],
   "source": [
    "train2_images"
   ]
  },
  {
   "cell_type": "code",
   "execution_count": 26,
   "metadata": {},
   "outputs": [
    {
     "data": {
      "text/plain": [
       "array([[[[0.61960784, 0.43921569, 0.19215686],\n",
       "         [0.62352941, 0.43529412, 0.18431373],\n",
       "         [0.64705882, 0.45490196, 0.2       ],\n",
       "         ...,\n",
       "         [0.5372549 , 0.37254902, 0.14117647],\n",
       "         [0.49411765, 0.35686275, 0.14117647],\n",
       "         [0.45490196, 0.33333333, 0.12941176]],\n",
       "\n",
       "        [[0.59607843, 0.43921569, 0.2       ],\n",
       "         [0.59215686, 0.43137255, 0.15686275],\n",
       "         [0.62352941, 0.44705882, 0.17647059],\n",
       "         ...,\n",
       "         [0.53333333, 0.37254902, 0.12156863],\n",
       "         [0.49019608, 0.35686275, 0.1254902 ],\n",
       "         [0.46666667, 0.34509804, 0.13333333]],\n",
       "\n",
       "        [[0.59215686, 0.43137255, 0.18431373],\n",
       "         [0.59215686, 0.42745098, 0.12941176],\n",
       "         [0.61960784, 0.43529412, 0.14117647],\n",
       "         ...,\n",
       "         [0.54509804, 0.38431373, 0.13333333],\n",
       "         [0.50980392, 0.37254902, 0.13333333],\n",
       "         [0.47058824, 0.34901961, 0.12941176]],\n",
       "\n",
       "        ...,\n",
       "\n",
       "        [[0.26666667, 0.48627451, 0.69411765],\n",
       "         [0.16470588, 0.39215686, 0.58039216],\n",
       "         [0.12156863, 0.34509804, 0.5372549 ],\n",
       "         ...,\n",
       "         [0.14901961, 0.38039216, 0.57254902],\n",
       "         [0.05098039, 0.25098039, 0.42352941],\n",
       "         [0.15686275, 0.33333333, 0.49803922]],\n",
       "\n",
       "        [[0.23921569, 0.45490196, 0.65882353],\n",
       "         [0.19215686, 0.4       , 0.58039216],\n",
       "         [0.1372549 , 0.33333333, 0.51764706],\n",
       "         ...,\n",
       "         [0.10196078, 0.32156863, 0.50980392],\n",
       "         [0.11372549, 0.32156863, 0.49411765],\n",
       "         [0.07843137, 0.25098039, 0.41960784]],\n",
       "\n",
       "        [[0.21176471, 0.41960784, 0.62745098],\n",
       "         [0.21960784, 0.41176471, 0.58431373],\n",
       "         [0.17647059, 0.34901961, 0.51764706],\n",
       "         ...,\n",
       "         [0.09411765, 0.30196078, 0.48627451],\n",
       "         [0.13333333, 0.32941176, 0.50588235],\n",
       "         [0.08235294, 0.2627451 , 0.43137255]]],\n",
       "\n",
       "\n",
       "       [[[0.92156863, 0.92156863, 0.92156863],\n",
       "         [0.90588235, 0.90588235, 0.90588235],\n",
       "         [0.90980392, 0.90980392, 0.90980392],\n",
       "         ...,\n",
       "         [0.91372549, 0.91372549, 0.91372549],\n",
       "         [0.91372549, 0.91372549, 0.91372549],\n",
       "         [0.90980392, 0.90980392, 0.90980392]],\n",
       "\n",
       "        [[0.93333333, 0.93333333, 0.93333333],\n",
       "         [0.92156863, 0.92156863, 0.92156863],\n",
       "         [0.92156863, 0.92156863, 0.92156863],\n",
       "         ...,\n",
       "         [0.9254902 , 0.9254902 , 0.9254902 ],\n",
       "         [0.9254902 , 0.9254902 , 0.9254902 ],\n",
       "         [0.92156863, 0.92156863, 0.92156863]],\n",
       "\n",
       "        [[0.92941176, 0.92941176, 0.92941176],\n",
       "         [0.91764706, 0.91764706, 0.91764706],\n",
       "         [0.91764706, 0.91764706, 0.91764706],\n",
       "         ...,\n",
       "         [0.92156863, 0.92156863, 0.92156863],\n",
       "         [0.92156863, 0.92156863, 0.92156863],\n",
       "         [0.91764706, 0.91764706, 0.91764706]],\n",
       "\n",
       "        ...,\n",
       "\n",
       "        [[0.34117647, 0.38823529, 0.34901961],\n",
       "         [0.16862745, 0.2       , 0.14509804],\n",
       "         [0.0745098 , 0.09019608, 0.04313725],\n",
       "         ...,\n",
       "         [0.6627451 , 0.72156863, 0.70196078],\n",
       "         [0.71372549, 0.77254902, 0.75686275],\n",
       "         [0.7372549 , 0.79215686, 0.78823529]],\n",
       "\n",
       "        [[0.32156863, 0.37647059, 0.32156863],\n",
       "         [0.18039216, 0.22352941, 0.14117647],\n",
       "         [0.14117647, 0.17254902, 0.08627451],\n",
       "         ...,\n",
       "         [0.68235294, 0.74117647, 0.71764706],\n",
       "         [0.7254902 , 0.78431373, 0.76862745],\n",
       "         [0.73333333, 0.79215686, 0.78431373]],\n",
       "\n",
       "        [[0.33333333, 0.39607843, 0.3254902 ],\n",
       "         [0.24313725, 0.29411765, 0.18823529],\n",
       "         [0.22745098, 0.2627451 , 0.14901961],\n",
       "         ...,\n",
       "         [0.65882353, 0.71764706, 0.69803922],\n",
       "         [0.70588235, 0.76470588, 0.74901961],\n",
       "         [0.72941176, 0.78431373, 0.78039216]]],\n",
       "\n",
       "\n",
       "       [[[0.61960784, 0.74509804, 0.87058824],\n",
       "         [0.61960784, 0.73333333, 0.85490196],\n",
       "         [0.54509804, 0.65098039, 0.76078431],\n",
       "         ...,\n",
       "         [0.89411765, 0.90588235, 0.91764706],\n",
       "         [0.92941176, 0.9372549 , 0.95294118],\n",
       "         [0.93333333, 0.94509804, 0.96470588]],\n",
       "\n",
       "        [[0.66666667, 0.78431373, 0.89803922],\n",
       "         [0.6745098 , 0.78039216, 0.88627451],\n",
       "         [0.59215686, 0.69019608, 0.78823529],\n",
       "         ...,\n",
       "         [0.90980392, 0.90980392, 0.9254902 ],\n",
       "         [0.96470588, 0.96470588, 0.98039216],\n",
       "         [0.96470588, 0.96862745, 0.98431373]],\n",
       "\n",
       "        [[0.68235294, 0.78823529, 0.88235294],\n",
       "         [0.69019608, 0.78431373, 0.87058824],\n",
       "         [0.61568627, 0.70196078, 0.78039216],\n",
       "         ...,\n",
       "         [0.90196078, 0.89803922, 0.90980392],\n",
       "         [0.98039216, 0.97647059, 0.98431373],\n",
       "         [0.96078431, 0.95686275, 0.96862745]],\n",
       "\n",
       "        ...,\n",
       "\n",
       "        [[0.12156863, 0.15686275, 0.17647059],\n",
       "         [0.11764706, 0.15294118, 0.17254902],\n",
       "         [0.10196078, 0.1372549 , 0.15686275],\n",
       "         ...,\n",
       "         [0.14509804, 0.15686275, 0.18039216],\n",
       "         [0.03529412, 0.05098039, 0.05490196],\n",
       "         [0.01568627, 0.02745098, 0.01960784]],\n",
       "\n",
       "        [[0.09019608, 0.13333333, 0.15294118],\n",
       "         [0.10588235, 0.14901961, 0.16862745],\n",
       "         [0.09803922, 0.14117647, 0.16078431],\n",
       "         ...,\n",
       "         [0.0745098 , 0.07843137, 0.09411765],\n",
       "         [0.01568627, 0.02352941, 0.01176471],\n",
       "         [0.01960784, 0.02745098, 0.01176471]],\n",
       "\n",
       "        [[0.10980392, 0.16078431, 0.18431373],\n",
       "         [0.11764706, 0.16862745, 0.19607843],\n",
       "         [0.1254902 , 0.17647059, 0.20392157],\n",
       "         ...,\n",
       "         [0.01960784, 0.02352941, 0.03137255],\n",
       "         [0.01568627, 0.01960784, 0.01176471],\n",
       "         [0.02745098, 0.03137255, 0.02745098]]],\n",
       "\n",
       "\n",
       "       ...,\n",
       "\n",
       "\n",
       "       [[[0.07843137, 0.05882353, 0.04705882],\n",
       "         [0.0745098 , 0.05490196, 0.04313725],\n",
       "         [0.05882353, 0.05490196, 0.04313725],\n",
       "         ...,\n",
       "         [0.03921569, 0.03529412, 0.02745098],\n",
       "         [0.04705882, 0.04313725, 0.03529412],\n",
       "         [0.05098039, 0.04705882, 0.03921569]],\n",
       "\n",
       "        [[0.08235294, 0.0627451 , 0.05098039],\n",
       "         [0.07843137, 0.0627451 , 0.05098039],\n",
       "         [0.07058824, 0.06666667, 0.04705882],\n",
       "         ...,\n",
       "         [0.03921569, 0.03529412, 0.02745098],\n",
       "         [0.03921569, 0.03529412, 0.02745098],\n",
       "         [0.04705882, 0.04313725, 0.03529412]],\n",
       "\n",
       "        [[0.08235294, 0.0627451 , 0.05098039],\n",
       "         [0.08235294, 0.06666667, 0.04705882],\n",
       "         [0.07843137, 0.07058824, 0.04313725],\n",
       "         ...,\n",
       "         [0.04705882, 0.04313725, 0.03529412],\n",
       "         [0.04705882, 0.04313725, 0.03529412],\n",
       "         [0.05098039, 0.04705882, 0.03921569]],\n",
       "\n",
       "        ...,\n",
       "\n",
       "        [[0.12941176, 0.09803922, 0.05098039],\n",
       "         [0.13333333, 0.10196078, 0.05882353],\n",
       "         [0.13333333, 0.10196078, 0.05882353],\n",
       "         ...,\n",
       "         [0.10980392, 0.09803922, 0.20392157],\n",
       "         [0.11372549, 0.09803922, 0.22745098],\n",
       "         [0.09019608, 0.07843137, 0.16470588]],\n",
       "\n",
       "        [[0.12941176, 0.09803922, 0.05490196],\n",
       "         [0.13333333, 0.10196078, 0.05882353],\n",
       "         [0.13333333, 0.10196078, 0.05882353],\n",
       "         ...,\n",
       "         [0.10588235, 0.09411765, 0.20392157],\n",
       "         [0.10588235, 0.09411765, 0.21960784],\n",
       "         [0.09803922, 0.08627451, 0.18431373]],\n",
       "\n",
       "        [[0.12156863, 0.09019608, 0.04705882],\n",
       "         [0.1254902 , 0.09411765, 0.05098039],\n",
       "         [0.12941176, 0.09803922, 0.05490196],\n",
       "         ...,\n",
       "         [0.09411765, 0.09019608, 0.19607843],\n",
       "         [0.10196078, 0.09019608, 0.20784314],\n",
       "         [0.09803922, 0.07843137, 0.18431373]]],\n",
       "\n",
       "\n",
       "       [[[0.09803922, 0.15686275, 0.04705882],\n",
       "         [0.05882353, 0.14117647, 0.01176471],\n",
       "         [0.09019608, 0.16078431, 0.07058824],\n",
       "         ...,\n",
       "         [0.23921569, 0.32156863, 0.30588235],\n",
       "         [0.36078431, 0.44313725, 0.43921569],\n",
       "         [0.29411765, 0.34901961, 0.36078431]],\n",
       "\n",
       "        [[0.04705882, 0.09803922, 0.02352941],\n",
       "         [0.07843137, 0.14509804, 0.02745098],\n",
       "         [0.09411765, 0.14117647, 0.05882353],\n",
       "         ...,\n",
       "         [0.45098039, 0.5254902 , 0.54117647],\n",
       "         [0.58431373, 0.65882353, 0.69411765],\n",
       "         [0.40784314, 0.45882353, 0.51372549]],\n",
       "\n",
       "        [[0.04705882, 0.09803922, 0.04313725],\n",
       "         [0.05882353, 0.11372549, 0.02352941],\n",
       "         [0.13333333, 0.15686275, 0.09411765],\n",
       "         ...,\n",
       "         [0.60392157, 0.6745098 , 0.71372549],\n",
       "         [0.61568627, 0.68627451, 0.75294118],\n",
       "         [0.45490196, 0.50588235, 0.59215686]],\n",
       "\n",
       "        ...,\n",
       "\n",
       "        [[0.39215686, 0.50588235, 0.31764706],\n",
       "         [0.40392157, 0.51764706, 0.32941176],\n",
       "         [0.40784314, 0.5254902 , 0.3372549 ],\n",
       "         ...,\n",
       "         [0.38039216, 0.50196078, 0.32941176],\n",
       "         [0.38431373, 0.49411765, 0.32941176],\n",
       "         [0.35686275, 0.4745098 , 0.30980392]],\n",
       "\n",
       "        [[0.40392157, 0.51764706, 0.3254902 ],\n",
       "         [0.40784314, 0.51372549, 0.3254902 ],\n",
       "         [0.41960784, 0.52941176, 0.34117647],\n",
       "         ...,\n",
       "         [0.39607843, 0.51764706, 0.34117647],\n",
       "         [0.38823529, 0.49803922, 0.32941176],\n",
       "         [0.36078431, 0.4745098 , 0.30980392]],\n",
       "\n",
       "        [[0.37254902, 0.49411765, 0.30588235],\n",
       "         [0.37254902, 0.48235294, 0.29803922],\n",
       "         [0.39607843, 0.50196078, 0.31764706],\n",
       "         ...,\n",
       "         [0.36470588, 0.48627451, 0.31372549],\n",
       "         [0.37254902, 0.48235294, 0.31764706],\n",
       "         [0.36078431, 0.47058824, 0.31372549]]],\n",
       "\n",
       "\n",
       "       [[[0.28627451, 0.30588235, 0.29411765],\n",
       "         [0.38431373, 0.40392157, 0.44313725],\n",
       "         [0.38823529, 0.41568627, 0.44705882],\n",
       "         ...,\n",
       "         [0.52941176, 0.58823529, 0.59607843],\n",
       "         [0.52941176, 0.58431373, 0.60392157],\n",
       "         [0.79607843, 0.84313725, 0.8745098 ]],\n",
       "\n",
       "        [[0.27058824, 0.28627451, 0.2745098 ],\n",
       "         [0.32941176, 0.34901961, 0.38039216],\n",
       "         [0.26666667, 0.29411765, 0.31764706],\n",
       "         ...,\n",
       "         [0.33333333, 0.37254902, 0.34901961],\n",
       "         [0.27843137, 0.32156863, 0.31372549],\n",
       "         [0.47058824, 0.52156863, 0.52941176]],\n",
       "\n",
       "        [[0.27058824, 0.28627451, 0.2745098 ],\n",
       "         [0.35294118, 0.37254902, 0.39215686],\n",
       "         [0.24313725, 0.27843137, 0.29019608],\n",
       "         ...,\n",
       "         [0.29019608, 0.31764706, 0.2745098 ],\n",
       "         [0.20784314, 0.24313725, 0.21176471],\n",
       "         [0.24313725, 0.29019608, 0.27058824]],\n",
       "\n",
       "        ...,\n",
       "\n",
       "        [[0.48235294, 0.50196078, 0.37647059],\n",
       "         [0.51764706, 0.51764706, 0.4       ],\n",
       "         [0.50588235, 0.50196078, 0.39215686],\n",
       "         ...,\n",
       "         [0.42352941, 0.41960784, 0.34509804],\n",
       "         [0.24313725, 0.23529412, 0.21568627],\n",
       "         [0.10588235, 0.10588235, 0.10980392]],\n",
       "\n",
       "        [[0.45098039, 0.4745098 , 0.35686275],\n",
       "         [0.48235294, 0.48627451, 0.37254902],\n",
       "         [0.50588235, 0.49411765, 0.38823529],\n",
       "         ...,\n",
       "         [0.45098039, 0.45490196, 0.36862745],\n",
       "         [0.25882353, 0.25490196, 0.23137255],\n",
       "         [0.10588235, 0.10588235, 0.10588235]],\n",
       "\n",
       "        [[0.45490196, 0.47058824, 0.35294118],\n",
       "         [0.4745098 , 0.47843137, 0.36862745],\n",
       "         [0.50588235, 0.50196078, 0.39607843],\n",
       "         ...,\n",
       "         [0.45490196, 0.45098039, 0.36862745],\n",
       "         [0.26666667, 0.25490196, 0.22745098],\n",
       "         [0.10588235, 0.10196078, 0.10196078]]]])"
      ]
     },
     "execution_count": 26,
     "metadata": {},
     "output_type": "execute_result"
    }
   ],
   "source": [
    "test2_images"
   ]
  },
  {
   "cell_type": "code",
   "execution_count": 11,
   "metadata": {},
   "outputs": [],
   "source": [
    "# cimod1 = tf.keras.models.Sequential([\n",
    "#     tf.keras.layers.Conv2D(64, kernel_size = (5, 5), activation='relu', input_shape=(32, 32, 3)),\n",
    "#     tf.keras.layers.MaxPooling2D(1,1),\n",
    "    \n",
    "#     tf.keras.layers.Conv2D(64, kernel_size = (5, 5), activation='relu'),\n",
    "#     tf.keras.layers.MaxPooling2D(1,1),\n",
    "    \n",
    "#     tf.keras.layers.Conv2D(64, kernel_size = (5, 5), activation='relu'),\n",
    "#     tf.keras.layers.MaxPooling2D(1,1),\n",
    "    \n",
    "#     tf.keras.layers.Conv2D(64, kernel_size = (5, 5), activation='relu'),\n",
    "#     tf.keras.layers.MaxPooling2D(1,1),\n",
    "    \n",
    "#     tf.keras.layers.Flatten(),\n",
    "    \n",
    "#     tf.keras.layers.Dense(128, activation='relu'),\n",
    "#     tf.keras.layers.Dense(128, activation='relu'),\n",
    "    \n",
    "#     tf.keras.layers.Dense(10, activation='softmax')    \n",
    "# ])"
   ]
  },
  {
   "cell_type": "code",
   "execution_count": 14,
   "metadata": {},
   "outputs": [],
   "source": [
    "cimod1 = tf.keras.models.Sequential([\n",
    "    tf.keras.layers.Conv2D(32, (3, 3), activation='relu', input_shape=(32, 32, 3)),\n",
    "    tf.keras.layers.MaxPooling2D(1,1),\n",
    "    \n",
    "    tf.keras.layers.Conv2D(64, (3, 3), activation='relu'),\n",
    "    tf.keras.layers.Conv2D(64, (3, 3), activation='relu'),\n",
    "    \n",
    "    tf.keras.layers.MaxPooling2D(1,1),\n",
    "    \n",
    "    tf.keras.layers.Conv2D(128, (3, 3), activation='relu'),\n",
    "    tf.keras.layers.Conv2D(128, (3, 3), activation='relu'),\n",
    "    tf.keras.layers.MaxPooling2D(1,1),\n",
    "    \n",
    "    tf.keras.layers.Flatten(),\n",
    "    \n",
    "    tf.keras.layers.Dense(128, activation='relu'),\n",
    "    #tf.keras.layers.Dense(128, activation='relu'),\n",
    "    \n",
    "    tf.keras.layers.Dense(10, activation='softmax')    \n",
    "])"
   ]
  },
  {
   "cell_type": "code",
   "execution_count": 15,
   "metadata": {},
   "outputs": [],
   "source": [
    "cimod1.compile(optimizer='adam', loss='sparse_categorical_crossentropy', metrics = ['accuracy'])"
   ]
  },
  {
   "cell_type": "code",
   "execution_count": 13,
   "metadata": {},
   "outputs": [
    {
     "name": "stdout",
     "output_type": "stream",
     "text": [
      "1563/1563 [==============================] - 486s 311ms/step - loss: 2.4310 - accuracy: 0.1007\n"
     ]
    },
    {
     "data": {
      "text/plain": [
       "<tensorflow.python.keras.callbacks.History at 0x18280ed2c40>"
      ]
     },
     "execution_count": 13,
     "metadata": {},
     "output_type": "execute_result"
    }
   ],
   "source": [
    "cimod1.fit(train2_images, train2_labels, epochs = 1)"
   ]
  },
  {
   "cell_type": "code",
   "execution_count": null,
   "metadata": {},
   "outputs": [],
   "source": []
  },
  {
   "cell_type": "code",
   "execution_count": null,
   "metadata": {},
   "outputs": [],
   "source": []
  },
  {
   "cell_type": "code",
   "execution_count": 30,
   "metadata": {
    "scrolled": true
   },
   "outputs": [
    {
     "name": "stdout",
     "output_type": "stream",
     "text": [
      "tf.Tensor([ 1  2 77], shape=(3,), dtype=int32)\n"
     ]
    }
   ],
   "source": [
    "n1 = tensorflow.constant([1, 2, 77])\n",
    "print(n1)"
   ]
  },
  {
   "cell_type": "code",
   "execution_count": 31,
   "metadata": {},
   "outputs": [],
   "source": [
    "n2 = tensorflow.Variable([22, 17, 65])"
   ]
  },
  {
   "cell_type": "code",
   "execution_count": 32,
   "metadata": {},
   "outputs": [
    {
     "data": {
      "text/plain": [
       "<tf.Variable 'Variable:0' shape=(3,) dtype=int32, numpy=array([22, 17, 65])>"
      ]
     },
     "execution_count": 32,
     "metadata": {},
     "output_type": "execute_result"
    }
   ],
   "source": [
    "n2"
   ]
  },
  {
   "cell_type": "code",
   "execution_count": 33,
   "metadata": {},
   "outputs": [
    {
     "data": {
      "text/plain": [
       "tensorflow.python.ops.resource_variable_ops.ResourceVariable"
      ]
     },
     "execution_count": 33,
     "metadata": {},
     "output_type": "execute_result"
    }
   ],
   "source": [
    "type(n2)"
   ]
  },
  {
   "cell_type": "code",
   "execution_count": 34,
   "metadata": {},
   "outputs": [],
   "source": [
    "n3 = tensorflow.constant([[34, 16, 11], [56, 88, 13], [12, 10, 66], [40, 60, 77], [-11, 65, 30]])"
   ]
  },
  {
   "cell_type": "code",
   "execution_count": 35,
   "metadata": {},
   "outputs": [
    {
     "data": {
      "text/plain": [
       "<tf.Tensor: shape=(5, 3), dtype=int32, numpy=\n",
       "array([[ 34,  16,  11],\n",
       "       [ 56,  88,  13],\n",
       "       [ 12,  10,  66],\n",
       "       [ 40,  60,  77],\n",
       "       [-11,  65,  30]])>"
      ]
     },
     "execution_count": 35,
     "metadata": {},
     "output_type": "execute_result"
    }
   ],
   "source": [
    "n3"
   ]
  },
  {
   "cell_type": "code",
   "execution_count": 36,
   "metadata": {},
   "outputs": [
    {
     "data": {
      "text/plain": [
       "tensorflow.python.framework.ops.EagerTensor"
      ]
     },
     "execution_count": 36,
     "metadata": {},
     "output_type": "execute_result"
    }
   ],
   "source": [
    "type(n3)"
   ]
  },
  {
   "cell_type": "code",
   "execution_count": null,
   "metadata": {},
   "outputs": [],
   "source": []
  }
 ],
 "metadata": {
  "kernelspec": {
   "display_name": "Python 3",
   "language": "python",
   "name": "python3"
  },
  "language_info": {
   "codemirror_mode": {
    "name": "ipython",
    "version": 3
   },
   "file_extension": ".py",
   "mimetype": "text/x-python",
   "name": "python",
   "nbconvert_exporter": "python",
   "pygments_lexer": "ipython3",
   "version": "3.8.1"
  }
 },
 "nbformat": 4,
 "nbformat_minor": 4
}
